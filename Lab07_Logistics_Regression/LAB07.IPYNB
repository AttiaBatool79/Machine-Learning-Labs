{
 "cells": [
  {
   "cell_type": "markdown",
   "metadata": {},
   "source": [
    "# **LAB 07- LOGISTICS REGRESSION**"
   ]
  },
  {
   "cell_type": "markdown",
   "metadata": {},
   "source": [
    "Logistic regression predicts probabilities using the sigmoid function:\n",
    "\n",
    "𝜎\n",
    "(\n",
    "𝑧\n",
    ")\n",
    "=\n",
    "1\n",
    "1\n",
    "+\n",
    "𝑒\n",
    "−\n",
    "𝑧\n",
    "σ(z)= \n",
    "1+e \n",
    "−z\n",
    " \n",
    "1\n",
    "​\n",
    " \n",
    "where z is calculated as:\n",
    "\n",
    "𝑧\n",
    "=\n",
    "𝑤\n",
    "𝑋\n",
    "+\n",
    "𝑏\n",
    "z=wX+b\n",
    "Here,\n",
    "\n",
    "X = input feature (age)\n",
    "w = weight (model parameter)\n",
    "b = bias (model parameter)\n",
    "If the probability ≥ 0.5, the output is 1 (buys insurance); otherwise, it is 0 (does not buy)."
   ]
  },
  {
   "cell_type": "markdown",
   "metadata": {},
   "source": [
    "### **IMPORT LIBRARIES**"
   ]
  },
  {
   "cell_type": "code",
   "execution_count": 1,
   "metadata": {},
   "outputs": [],
   "source": [
    "import pandas as pd  \n",
    "import numpy as np  \n",
    "import matplotlib.pyplot as plt  \n",
    "from sklearn.model_selection import train_test_split  \n",
    "from sklearn.linear_model import LogisticRegression  \n",
    "from sklearn.metrics import confusion_matrix  \n"
   ]
  },
  {
   "cell_type": "markdown",
   "metadata": {},
   "source": [
    "##  **Load and Visualize the Dataset**"
   ]
  },
  {
   "cell_type": "code",
   "execution_count": 2,
   "metadata": {},
   "outputs": [
    {
     "name": "stdout",
     "output_type": "stream",
     "text": [
      "   age  bought_insurance\n",
      "0   22                 0\n",
      "1   25                 0\n",
      "2   47                 1\n",
      "3   52                 0\n",
      "4   46                 1\n"
     ]
    },
    {
     "data": {
      "image/png": "[encoded data removed]",
      "text/plain": [
       "<Figure size 640x480 with 1 Axes>"
      ]
     },
     "metadata": {},
     "output_type": "display_data"
    }
   ],
   "source": [
    "df = pd.read_csv(\"insurance_data.csv\")  \n",
    "print(df.head())  # View first few rows  \n",
    "\n",
    "# Plot age vs. bought insurance  \n",
    "plt.scatter(df.age, df.bought_insurance, marker='+', color='red')  \n",
    "plt.xlabel(\"Age\")  \n",
    "plt.ylabel(\"Bought Insurance (0 = No, 1 = Yes)\")  \n",
    "plt.title(\"Insurance Purchase Based on Age\")  \n",
    "plt.show()  \n"
   ]
  },
  {
   "cell_type": "markdown",
   "metadata": {},
   "source": [
    "## **Split Data into Training and Testing Sets**"
   ]
  },
  {
   "cell_type": "code",
   "execution_count": 3,
   "metadata": {},
   "outputs": [
    {
     "name": "stdout",
     "output_type": "stream",
     "text": [
      "Training set size: 21, Testing set size: 6\n"
     ]
    }
   ],
   "source": [
    "X = df[['age']]  # Features  \n",
    "y = df.bought_insurance  # Target variable  \n",
    "\n",
    "# 80% training, 20% testing  \n",
    "X_train, X_test, y_train, y_test = train_test_split(X, y, train_size=0.8, random_state=42)  \n",
    "\n",
    "print(f\"Training set size: {len(X_train)}, Testing set size: {len(X_test)}\")  \n"
   ]
  },
  {
   "cell_type": "markdown",
   "metadata": {},
   "source": [
    "## **Train the Logistic Regression Model**"
   ]
  },
  {
   "cell_type": "code",
   "execution_count": 4,
   "metadata": {},
   "outputs": [
    {
     "name": "stdout",
     "output_type": "stream",
     "text": [
      "Model trained successfully!\n"
     ]
    }
   ],
   "source": [
    "model = LogisticRegression()  # Create model  \n",
    "model.fit(X_train, y_train)  # Train model  \n",
    "\n",
    "print(\"Model trained successfully!\")  \n"
   ]
  },
  {
   "cell_type": "markdown",
   "metadata": {},
   "source": [
    "## **Make Predictions on Test Data**"
   ]
  },
  {
   "cell_type": "code",
   "execution_count": 5,
   "metadata": {},
   "outputs": [
    {
     "name": "stdout",
     "output_type": "stream",
     "text": [
      "Predictions: [1 0 1 0 0 0]\n"
     ]
    }
   ],
   "source": [
    "y_pred = model.predict(X_test)  # Predict test labels  \n",
    "print(\"Predictions:\", y_pred)  \n"
   ]
  },
  {
   "cell_type": "markdown",
   "metadata": {},
   "source": [
    "## **Predict Probability of Buying Insurance**"
   ]
  },
  {
   "cell_type": "code",
   "execution_count": 6,
   "metadata": {},
   "outputs": [
    {
     "name": "stdout",
     "output_type": "stream",
     "text": [
      "Prediction Probabilities:\n",
      " [[0.05428681 0.94571319]\n",
      " [0.70555426 0.29444574]\n",
      " [0.06039343 0.93960657]\n",
      " [0.77085061 0.22914939]\n",
      " [0.84096546 0.15903454]\n",
      " [0.72848825 0.27151175]]\n"
     ]
    }
   ],
   "source": [
    "probabilities = model.predict_proba(X_test)  \n",
    "print(\"Prediction Probabilities:\\n\", probabilities)  \n"
   ]
  },
  {
   "cell_type": "markdown",
   "metadata": {},
   "source": [
    "## **Evaluate Model Using a Confusion Matrix**"
   ]
  },
  {
   "cell_type": "code",
   "execution_count": 7,
   "metadata": {},
   "outputs": [
    {
     "name": "stdout",
     "output_type": "stream",
     "text": [
      "Confusion Matrix:\n",
      " [[4 0]\n",
      " [0 2]]\n"
     ]
    }
   ],
   "source": [
    "cm = confusion_matrix(y_test, y_pred)  \n",
    "print(\"Confusion Matrix:\\n\", cm)  \n"
   ]
  },
  {
   "cell_type": "markdown",
   "metadata": {},
   "source": [
    "## **Modify Training Data Split Ratio (Optional Experiment)**"
   ]
  },
  {
   "cell_type": "code",
   "execution_count": 8,
   "metadata": {},
   "outputs": [],
   "source": [
    "X_train, X_test, y_train, y_test = train_test_split(X, y, train_size=0.7, random_state=42)  \n"
   ]
  },
  {
   "cell_type": "markdown",
   "metadata": {},
   "source": [
    "## **Visualize the Sigmoid Function**"
   ]
  },
  {
   "cell_type": "code",
   "execution_count": 9,
   "metadata": {},
   "outputs": [
    {
     "data": {
      "image/png": "[encoded data removed]",
      "text/plain": [
       "<Figure size 640x480 with 1 Axes>"
      ]
     },
     "metadata": {},
     "output_type": "display_data"
    }
   ],
   "source": [
    "def sigmoid(z):  \n",
    "    return 1 / (1 + np.exp(-z))  \n",
    "\n",
    "z = np.linspace(-10, 10, 100)  \n",
    "plt.plot(z, sigmoid(z))  \n",
    "plt.xlabel(\"z\")  \n",
    "plt.ylabel(\"Sigmoid(z)\")  \n",
    "plt.title(\"Sigmoid Function\")  \n",
    "plt.show()  \n"
   ]
  },
  {
   "cell_type": "markdown",
   "metadata": {},
   "source": [
    "## **Test Model on New Data**"
   ]
  },
  {
   "cell_type": "code",
   "execution_count": 10,
   "metadata": {},
   "outputs": [
    {
     "name": "stdout",
     "output_type": "stream",
     "text": [
      "Prediction for Age 40: [1]\n"
     ]
    },
    {
     "name": "stderr",
     "output_type": "stream",
     "text": [
      "c:\\Users\\Admin\\AppData\\Local\\Programs\\Python\\Python38\\lib\\site-packages\\sklearn\\base.py:465: UserWarning: X does not have valid feature names, but LogisticRegression was fitted with feature names\n",
      "  warnings.warn(\n"
     ]
    }
   ],
   "source": [
    "new_data = [[40]]  # Example: Age 40  \n",
    "prediction = model.predict(new_data)  \n",
    "print(\"Prediction for Age 40:\", prediction)  \n"
   ]
  },
  {
   "cell_type": "markdown",
   "metadata": {},
   "source": [
    "# **LAB TASK 01**"
   ]
  },
  {
   "cell_type": "markdown",
   "metadata": {},
   "source": [
    "**Predict Probability of Buying Insurance – Use model.predict_proba(X_test) to get the probability estimates for each test instance instead of just the class labels**"
   ]
  },
  {
   "cell_type": "code",
   "execution_count": 11,
   "metadata": {},
   "outputs": [
    {
     "name": "stdout",
     "output_type": "stream",
     "text": [
      "[[0.05428681 0.94571319]\n",
      " [0.70555426 0.29444574]\n",
      " [0.06039343 0.93960657]\n",
      " [0.77085061 0.22914939]\n",
      " [0.84096546 0.15903454]\n",
      " [0.72848825 0.27151175]\n",
      " [0.79021099 0.20978901]\n",
      " [0.08276569 0.91723431]\n",
      " [0.75026822 0.24973178]]\n"
     ]
    }
   ],
   "source": [
    "probabilities = model.predict_proba(X_test)\n",
    "print(probabilities)\n"
   ]
  },
  {
   "cell_type": "markdown",
   "metadata": {},
   "source": [
    "**Explanation:**\n",
    "This function returns the probability that a person will (or won't) buy insurance. The first column gives the probability of not buying (0), and the second column gives the probability of buying (1)."
   ]
  },
  {
   "cell_type": "markdown",
   "metadata": {},
   "source": [
    "# **LAB TASK 02**"
   ]
  },
  {
   "cell_type": "markdown",
   "metadata": {},
   "source": [
    "**Modify Training Data Split Ratio – Change the train-test split ratio from 80-20 to 70-30 or 60-40 and observe how it affects model performance**"
   ]
  },
  {
   "cell_type": "code",
   "execution_count": 12,
   "metadata": {},
   "outputs": [],
   "source": [
    "X_train, X_test, y_train, y_test = train_test_split(df[['age']], df.bought_insurance, train_size=0.7)\n"
   ]
  },
  {
   "cell_type": "markdown",
   "metadata": {},
   "source": [
    "**Explanation:**\n",
    "A larger test set (30% or 40%) means the model is tested on more data, affecting performance. Try different splits to see how accuracy changes."
   ]
  },
  {
   "cell_type": "markdown",
   "metadata": {},
   "source": [
    "# **LAB TASK 03**"
   ]
  },
  {
   "cell_type": "markdown",
   "metadata": {},
   "source": [
    "**Evaluate Model Performance Using a Confusion Matrix – Use sklearn.metrics.confusion_matrix to generate and analyze the confusion matrix for the test predictions.**"
   ]
  },
  {
   "cell_type": "code",
   "execution_count": 13,
   "metadata": {},
   "outputs": [
    {
     "name": "stdout",
     "output_type": "stream",
     "text": [
      "[[2 2]\n",
      " [1 4]]\n"
     ]
    }
   ],
   "source": [
    "from sklearn.metrics import confusion_matrix\n",
    "\n",
    "y_predicted = model.predict(X_test)\n",
    "cm = confusion_matrix(y_test, y_predicted)\n",
    "print(cm)\n"
   ]
  },
  {
   "cell_type": "markdown",
   "metadata": {},
   "source": [
    "**Explanation:**\n",
    "The confusion matrix helps understand misclassifications by showing how many predictions were correct or incorrect."
   ]
  },
  {
   "cell_type": "markdown",
   "metadata": {},
   "source": [
    "# **LAB TASK 04**"
   ]
  },
  {
   "cell_type": "markdown",
   "metadata": {},
   "source": [
    "**Visualize the Sigmoid Function – Plot the sigmoid function over a range of values using Matplotlib to see how it maps inputs to probabilities**"
   ]
  },
  {
   "cell_type": "code",
   "execution_count": 14,
   "metadata": {},
   "outputs": [
    {
     "data": {
      "image/png": "[encoded data removed]",
      "text/plain": [
       "<Figure size 640x480 with 1 Axes>"
      ]
     },
     "metadata": {},
     "output_type": "display_data"
    }
   ],
   "source": [
    "import numpy as np\n",
    "import matplotlib.pyplot as plt\n",
    "\n",
    "def sigmoid(z):\n",
    "    return 1 / (1 + np.exp(-z))\n",
    "\n",
    "z = np.linspace(-10, 10, 100)\n",
    "plt.plot(z, sigmoid(z))\n",
    "plt.xlabel(\"z\")\n",
    "plt.ylabel(\"Sigmoid(z)\")\n",
    "plt.title(\"Sigmoid Function\")\n",
    "plt.show()\n"
   ]
  },
  {
   "cell_type": "markdown",
   "metadata": {},
   "source": [
    "**Explanation:**\n",
    "The sigmoid function maps values between 0 and 1, making it useful for probability-based classification."
   ]
  },
  {
   "cell_type": "markdown",
   "metadata": {},
   "source": [
    "# **LAB TASK 05**"
   ]
  },
  {
   "cell_type": "markdown",
   "metadata": {},
   "source": [
    "**Test Model on New Data – Manually input a new age value, pass it through the trained model using .predict(), and determine whether the person is likely to buy insurance**"
   ]
  },
  {
   "cell_type": "code",
   "execution_count": 15,
   "metadata": {},
   "outputs": [
    {
     "name": "stdout",
     "output_type": "stream",
     "text": [
      "Prediction: [1]\n"
     ]
    },
    {
     "name": "stderr",
     "output_type": "stream",
     "text": [
      "c:\\Users\\Admin\\AppData\\Local\\Programs\\Python\\Python38\\lib\\site-packages\\sklearn\\base.py:465: UserWarning: X does not have valid feature names, but LogisticRegression was fitted with feature names\n",
      "  warnings.warn(\n"
     ]
    }
   ],
   "source": [
    "new_data = [[40]]  # Example: Person of age 40\n",
    "prediction = model.predict(new_data)\n",
    "print(\"Prediction:\", prediction)\n"
   ]
  },
  {
   "cell_type": "markdown",
   "metadata": {},
   "source": [
    "**Explanation:**\n",
    "If the output is 1, the model predicts that the person will buy insurance; otherwise, it predicts 0 (won't buy)."
   ]
  }
 ],
 "metadata": {
  "kernelspec": {
   "display_name": "Python 3",
   "language": "python",
   "name": "python3"
  },
  "language_info": {
   "codemirror_mode": {
    "name": "ipython",
    "version": 3
   },
   "file_extension": ".py",
   "mimetype": "text/x-python",
   "name": "python",
   "nbconvert_exporter": "python",
   "pygments_lexer": "ipython3",
   "version": "3.8.6"
  }
 },
 "nbformat": 4,
 "nbformat_minor": 2
}
