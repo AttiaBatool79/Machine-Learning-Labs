{
 "cells": [
  {
   "cell_type": "markdown",
   "metadata": {},
   "source": [
    "# **LAB 09 - NEURAL NETWORKS**"
   ]
  },
  {
   "cell_type": "markdown",
   "metadata": {},
   "source": [
    "## **INTRODUCTION**"
   ]
  },
  {
   "cell_type": "markdown",
   "metadata": {},
   "source": [
    "This lab focuses on implementing a shallow neural network from scratch using NumPy, Pandas, and Matplotlib. The tasks involve activation functions, matrix initialization, forward propagation, backward propagation, and training/testing the model.\n",
    "\n",
    "---"
   ]
  },
  {
   "cell_type": "markdown",
   "metadata": {},
   "source": [
    "## **Task 1: Implementing Activation Functions**"
   ]
  },
  {
   "cell_type": "markdown",
   "metadata": {},
   "source": [
    "### **Code Implementation**"
   ]
  },
  {
   "cell_type": "code",
   "execution_count": null,
   "metadata": {},
   "outputs": [],
   "source": [
    "import numpy as np\n",
    "import matplotlib.pyplot as plt\n",
    "\n",
    "def sigmoid(z):\n",
    "    return 1 / (1 + np.exp(-z))\n",
    "\n",
    "def relu(z):\n",
    "    return np.maximum(0, z)\n",
    "\n",
    "def derivative_relu(z):\n",
    "    return np.where(z > 0, 1, 0)"
   ]
  },
  {
   "cell_type": "markdown",
   "metadata": {},
   "source": [
    "#### **Testing the functions**"
   ]
  },
  {
   "cell_type": "code",
   "execution_count": 2,
   "metadata": {},
   "outputs": [
    {
     "name": "stdout",
     "output_type": "stream",
     "text": [
      "Sigmoid Output: [0.11920292 0.26894142 0.5        0.73105858 0.88079708]\n",
      "ReLU Output: [0 0 0 1 2]\n",
      "Derivative of ReLU Output: [0 0 0 1 1]\n"
     ]
    }
   ],
   "source": [
    "z = np.array([-2, -1, 0, 1, 2])\n",
    "print(\"Sigmoid Output:\", sigmoid(z))\n",
    "print(\"ReLU Output:\", relu(z))\n",
    "print(\"Derivative of ReLU Output:\", derivative_relu(z))"
   ]
  },
  {
   "cell_type": "markdown",
   "metadata": {},
   "source": [
    "### **Explanation**"
   ]
  },
  {
   "cell_type": "markdown",
   "metadata": {},
   "source": [
    "- `sigmoid(z)`: Computes the Sigmoid function to output probabilities.\n",
    "- `relu(z)`: Implements the ReLU activation function, setting negative values to 0.\n",
    "- `derivative_relu(z)`: Computes the gradient of the ReLU function.\n",
    "- A test array `z` is used to verify the functions.\n",
    "\n",
    "---"
   ]
  },
  {
   "cell_type": "markdown",
   "metadata": {},
   "source": [
    "## **Task 2: Matrix Initializations**"
   ]
  },
  {
   "cell_type": "markdown",
   "metadata": {},
   "source": [
    "### **Code Implementation**"
   ]
  },
  {
   "cell_type": "markdown",
   "metadata": {},
   "source": [
    "**Initialize dataset (random for illustration)**"
   ]
  },
  {
   "cell_type": "code",
   "execution_count": 3,
   "metadata": {},
   "outputs": [],
   "source": [
    "m_train, m_test, n_features = 100, 20, 3\n",
    "X_train = np.random.randn(n_features, m_train)\n",
    "X_test = np.random.randn(n_features, m_test)\n",
    "Y_train = np.random.randint(0, 2, (1, m_train))\n",
    "Y_test = np.random.randint(0, 2, (1, m_test))"
   ]
  },
  {
   "cell_type": "markdown",
   "metadata": {},
   "source": [
    "**Initialize parameters**"
   ]
  },
  {
   "cell_type": "code",
   "execution_count": 4,
   "metadata": {},
   "outputs": [],
   "source": [
    "W1 = np.random.randn(4, n_features) * 0.01\n",
    "b1 = np.zeros((4, 1))\n",
    "W2 = np.random.randn(3, 4) * 0.01\n",
    "b2 = np.zeros((3, 1))\n",
    "W3 = np.random.randn(1, 3) * 0.01\n",
    "b3 = np.zeros((1, 1))"
   ]
  },
  {
   "cell_type": "markdown",
   "metadata": {},
   "source": [
    "### **Explanation**"
   ]
  },
  {
   "cell_type": "markdown",
   "metadata": {},
   "source": [
    "- `X_train` and `X_test`: Randomly initialized datasets with 3 features.\n",
    "- `Y_train` and `Y_test`: Binary labels.\n",
    "- Weights (`W1`, `W2`, `W3`) are initialized with small random values.\n",
    "- Biases (`b1`, `b2`, `b3`) are initialized as zeros.\n",
    "\n",
    "---"
   ]
  },
  {
   "cell_type": "markdown",
   "metadata": {},
   "source": [
    "## **Task 3: Forward Propagation**"
   ]
  },
  {
   "cell_type": "markdown",
   "metadata": {},
   "source": [
    "### **Code Implementation**"
   ]
  },
  {
   "cell_type": "code",
   "execution_count": 5,
   "metadata": {},
   "outputs": [],
   "source": [
    "def forward_propagation(X, W1, b1, W2, b2, W3, b3):\n",
    "    Z1 = np.dot(W1, X) + b1\n",
    "    A1 = relu(Z1)\n",
    "    Z2 = np.dot(W2, A1) + b2\n",
    "    A2 = relu(Z2)\n",
    "    Z3 = np.dot(W3, A2) + b3\n",
    "    A3 = sigmoid(Z3)\n",
    "    return Z1, A1, Z2, A2, Z3, A3"
   ]
  },
  {
   "cell_type": "markdown",
   "metadata": {},
   "source": [
    "#### **Testing forward propagation**"
   ]
  },
  {
   "cell_type": "code",
   "execution_count": 6,
   "metadata": {},
   "outputs": [
    {
     "name": "stdout",
     "output_type": "stream",
     "text": [
      "Output of forward propagation: [[0.50000028 0.50000015 0.50000016 0.50000003 0.50000006 0.50000014\n",
      "  0.50000003 0.50000002 0.50000006 0.49999999 0.50000022 0.50000005\n",
      "  0.50000012 0.50000001 0.50000013 0.50000037 0.50000008 0.50000003\n",
      "  0.50000006 0.50000017 0.50000013 0.50000019 0.50000006 0.50000004\n",
      "  0.50000031 0.50000008 0.50000006 0.50000006 0.50000001 0.5000001\n",
      "  0.50000011 0.50000005 0.50000005 0.50000008 0.50000026 0.5000001\n",
      "  0.50000003 0.50000039 0.50000008 0.50000041 0.50000002 0.50000003\n",
      "  0.50000019 0.50000007 0.50000015 0.50000012 0.50000013 0.50000016\n",
      "  0.50000002 0.50000013 0.50000002 0.50000006 0.50000025 0.50000011\n",
      "  0.50000021 0.50000004 0.50000008 0.50000043 0.50000028 0.50000027\n",
      "  0.50000015 0.50000035 0.50000004 0.50000027 0.50000009 0.50000015\n",
      "  0.50000017 0.50000002 0.50000008 0.50000005 0.50000011 0.50000004\n",
      "  0.50000016 0.50000006 0.50000004 0.50000006 0.50000006 0.50000005\n",
      "  0.50000005 0.50000025 0.5000001  0.50000013 0.50000027 0.50000002\n",
      "  0.50000016 0.50000012 0.50000015 0.50000045 0.50000008 0.50000002\n",
      "  0.50000024 0.50000006 0.50000011 0.50000001 0.50000016 0.50000001\n",
      "  0.50000014 0.50000007 0.50000021 0.50000028]]\n"
     ]
    }
   ],
   "source": [
    "Z1, A1, Z2, A2, Z3, A3 = forward_propagation(X_train, W1, b1, W2, b2, W3, b3)\n",
    "print(\"Output of forward propagation:\", A3)"
   ]
  },
  {
   "cell_type": "markdown",
   "metadata": {},
   "source": [
    "### **Explanation**"
   ]
  },
  {
   "cell_type": "markdown",
   "metadata": {},
   "source": [
    "- Computes layer activations using the given weights and biases.\n",
    "- Uses ReLU for hidden layers and Sigmoid for output.\n",
    "\n",
    "---"
   ]
  },
  {
   "cell_type": "markdown",
   "metadata": {},
   "source": [
    "## **Task 4: Backward Propagation**"
   ]
  },
  {
   "cell_type": "markdown",
   "metadata": {},
   "source": [
    "### **Code Implementation**"
   ]
  },
  {
   "cell_type": "code",
   "execution_count": 7,
   "metadata": {},
   "outputs": [],
   "source": [
    "def backward_propagation(X, Y, Z1, A1, Z2, A2, Z3, A3, W2, W3):\n",
    "    m = X.shape[1]\n",
    "    dZ3 = A3 - Y\n",
    "    dW3 = (1/m) * np.dot(dZ3, A2.T)\n",
    "    db3 = (1/m) * np.sum(dZ3, axis=1, keepdims=True)\n",
    "    dZ2 = np.dot(W3.T, dZ3) * derivative_relu(Z2)\n",
    "    dW2 = (1/m) * np.dot(dZ2, A1.T)\n",
    "    db2 = (1/m) * np.sum(dZ2, axis=1, keepdims=True)\n",
    "    dZ1 = np.dot(W2.T, dZ2) * derivative_relu(Z1)\n",
    "    dW1 = (1/m) * np.dot(dZ1, X.T)\n",
    "    db1 = (1/m) * np.sum(dZ1, axis=1, keepdims=True)\n",
    "    \n",
    "    return dW1, db1, dW2, db2, dW3, db3\n"
   ]
  },
  {
   "cell_type": "markdown",
   "metadata": {},
   "source": [
    "#### **Testing backward propagation**"
   ]
  },
  {
   "cell_type": "code",
   "execution_count": 8,
   "metadata": {},
   "outputs": [],
   "source": [
    "dW1, db1, dW2, db2, dW3, db3 = backward_propagation(X_train, Y_train, Z1, A1, Z2, A2, Z3, A3, W2, W3)"
   ]
  },
  {
   "cell_type": "markdown",
   "metadata": {},
   "source": [
    "### **Explanation**"
   ]
  },
  {
   "cell_type": "markdown",
   "metadata": {},
   "source": [
    "- Computes gradients of weights and biases using backpropagation.\n",
    "- Uses the chain rule to propagate the error backward.\n",
    "\n",
    "---"
   ]
  },
  {
   "cell_type": "markdown",
   "metadata": {},
   "source": [
    "## **Task 5: Training and Testing**"
   ]
  },
  {
   "cell_type": "markdown",
   "metadata": {},
   "source": [
    "### **Code Implementation**"
   ]
  },
  {
   "cell_type": "code",
   "execution_count": 9,
   "metadata": {},
   "outputs": [
    {
     "data": {
      "image/png": "[encoded data removed]",
      "text/plain": [
       "<Figure size 640x480 with 1 Axes>"
      ]
     },
     "metadata": {},
     "output_type": "display_data"
    }
   ],
   "source": [
    "learning_rate = 0.01\n",
    "epochs = 100\n",
    "train_costs, test_costs = [], []\n",
    "\n",
    "for epoch in range(epochs):\n",
    "    Z1, A1, Z2, A2, Z3, A3 = forward_propagation(X_train, W1, b1, W2, b2, W3, b3)\n",
    "    train_cost = -np.mean(Y_train * np.log(A3) + (1 - Y_train) * np.log(1 - A3))\n",
    "    dW1, db1, dW2, db2, dW3, db3 = backward_propagation(X_train, Y_train, Z1, A1, Z2, A2, Z3, A3, W2, W3)\n",
    "    W1 -= learning_rate * dW1\n",
    "    b1 -= learning_rate * db1\n",
    "    W2 -= learning_rate * dW2\n",
    "    b2 -= learning_rate * db2\n",
    "    W3 -= learning_rate * dW3\n",
    "    b3 -= learning_rate * db3\n",
    "    train_costs.append(train_cost)\n",
    "    \n",
    "plt.plot(range(epochs), train_costs, label='Training Cost')\n",
    "plt.xlabel('Epochs')\n",
    "plt.ylabel('Cost')\n",
    "plt.title('Training Cost Over Epochs')\n",
    "plt.legend()\n",
    "plt.show()"
   ]
  },
  {
   "cell_type": "markdown",
   "metadata": {},
   "source": [
    "### **Explanation**"
   ]
  },
  {
   "cell_type": "markdown",
   "metadata": {},
   "source": [
    "- Trains the neural network over multiple epochs.\n",
    "- Updates weights using gradient descent.\n",
    "- Plots the training cost over epochs.\n",
    "\n",
    "---"
   ]
  }
 ],
 "metadata": {
  "kernelspec": {
   "display_name": "Python 3",
   "language": "python",
   "name": "python3"
  },
  "language_info": {
   "codemirror_mode": {
    "name": "ipython",
    "version": 3
   },
   "file_extension": ".py",
   "mimetype": "text/x-python",
   "name": "python",
   "nbconvert_exporter": "python",
   "pygments_lexer": "ipython3",
   "version": "3.8.6"
  }
 },
 "nbformat": 4,
 "nbformat_minor": 2
}
