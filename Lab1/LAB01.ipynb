{
 "cells": [
  {
   "cell_type": "markdown",
   "metadata": {},
   "source": [
    "    .....................................MACHINE LEARNING LAB 01 (PYTHON BASICS)..................................."
   ]
  },
  {
   "cell_type": "markdown",
   "metadata": {},
   "source": [
    "1. PYHTON BASIC COMMANDS"
   ]
  },
  {
   "cell_type": "code",
   "execution_count": 1,
   "metadata": {},
   "outputs": [
    {
     "name": "stdout",
     "output_type": "stream",
     "text": [
      "my name is  attia batool my age is 20\n"
     ]
    }
   ],
   "source": [
    "a=\"attia batool\"\n",
    "b=20\n",
    "print(\"my name is \",a,\"my age is\",b)"
   ]
  },
  {
   "cell_type": "markdown",
   "metadata": {},
   "source": [
    "2. LOOPS IN PYHTON"
   ]
  },
  {
   "cell_type": "code",
   "execution_count": 2,
   "metadata": {},
   "outputs": [
    {
     "name": "stdout",
     "output_type": "stream",
     "text": [
      "my university friends are zara\n",
      "my university friends are amaim\n",
      "my university friends are manahil\n"
     ]
    }
   ],
   "source": [
    "l=['zara',\"amaim\",\"manahil\"]\n",
    "for i in l:\n",
    "    print(\"my university friends are\",i)"
   ]
  },
  {
   "cell_type": "markdown",
   "metadata": {},
   "source": [
    "3. FUNCTIONS IN PYTHON"
   ]
  },
  {
   "cell_type": "code",
   "execution_count": 4,
   "metadata": {},
   "outputs": [
    {
     "name": "stdout",
     "output_type": "stream",
     "text": [
      "you are in function named hello\n",
      "attia\n"
     ]
    }
   ],
   "source": [
    "def hello(name):\n",
    "    print(\"you are in function named hello\")\n",
    "    return name\n",
    "print(hello(\"attia\"))"
   ]
  },
  {
   "cell_type": "markdown",
   "metadata": {},
   "source": [
    "4. BASIC FILE HANDLING"
   ]
  },
  {
   "cell_type": "markdown",
   "metadata": {},
   "source": [
    "FOR CSV FILES:\n",
    "CSV (Comma-Separated Values): A plain text file format used to store tabular data, \n",
    "where each row is a record, and fields are separated by commas."
   ]
  },
  {
   "cell_type": "code",
   "execution_count": 7,
   "metadata": {},
   "outputs": [
    {
     "name": "stdout",
     "output_type": "stream",
     "text": [
      "CSV file 'General.csv' created and data written successfully!\n"
     ]
    }
   ],
   "source": [
    "import csv\n",
    "data=[[\"name\",\"age\",\"gpa\"],[\"attia\",20,3.86],[\"zara\",20,3.90],[\"manahil\",21,3.5]]\n",
    "#creating and writing to in a csv file\n",
    "with open('General.csv', mode='w', newline='') as file:\n",
    " writer = csv.writer(file)\n",
    " writer.writerows(data) # Write multiple rows\n",
    "print(\"CSV file 'General.csv' created and data written successfully!\")\n",
    "\n",
    "          \n"
   ]
  },
  {
   "cell_type": "markdown",
   "metadata": {},
   "source": [
    " READING FROM A SCV FILE:"
   ]
  },
  {
   "cell_type": "code",
   "execution_count": 16,
   "metadata": {},
   "outputs": [
    {
     "name": "stdout",
     "output_type": "stream",
     "text": [
      "['name', 'age', 'gpa']\n",
      "['attia', '20', '3.86']\n",
      "['zara', '20', '3.9']\n",
      "['manahil', '21', '3.5']\n"
     ]
    }
   ],
   "source": [
    "import csv\n",
    "with open('General.csv', mode='r') as file:\n",
    " reader = csv.reader(file)\n",
    " for row in reader:\n",
    "    print(row) # Print each row\n"
   ]
  },
  {
   "cell_type": "markdown",
   "metadata": {},
   "source": [
    " APPEND TO A CSV FILE"
   ]
  },
  {
   "cell_type": "code",
   "execution_count": 17,
   "metadata": {},
   "outputs": [
    {
     "name": "stdout",
     "output_type": "stream",
     "text": [
      "New data appended to 'General.csv' successfully!\n"
     ]
    }
   ],
   "source": [
    "import csv\n",
    "# Data to append\n",
    "new_data = [\"Amiam\", 22, 3.4]\n",
    "# Appending to the CSV file\n",
    "with open('General.csv', mode='a', newline='') as file:\n",
    " writer = csv.writer(file)\n",
    " writer.writerow(new_data) # Write a single row\n",
    "print(\"New data appended to 'General.csv' successfully!\")\n"
   ]
  },
  {
   "cell_type": "markdown",
   "metadata": {},
   "source": [
    " For JSON Files\n",
    "JSON (JavaScript Object Notation): A lightweight data-interchange format that uses \n",
    "key-value pairs to represent structured data in a human-readable and machine parseable format."
   ]
  },
  {
   "cell_type": "markdown",
   "metadata": {},
   "source": [
    " Create and Write to a JSON File"
   ]
  },
  {
   "cell_type": "code",
   "execution_count": 18,
   "metadata": {},
   "outputs": [
    {
     "name": "stdout",
     "output_type": "stream",
     "text": [
      "JSON file 'General.json' created and data written successfully!\n"
     ]
    }
   ],
   "source": [
    "import json\n",
    "# Data to write (dictionary)\n",
    "data = {\n",
    " \"people\": [\n",
    " {\"name\": \"ATIIA\", \"age\": 20, \"city\": \"QUEETA\"},\n",
    " {\"name\": \"KIRAN\", \"age\": 18, \"city\": \"FAISLABAD\"},\n",
    " {\"name\": \"ADEEBA\", \"age\": 14, \"city\": \"SARGODHA\"}\n",
    " ]\n",
    "}\n",
    "# Creating and writing to a JSON file\n",
    "with open('people_data.json', mode='w') as file:\n",
    " json.dump(data, file, indent=4) # Write JSON with indentation for readability\n",
    "print(\"JSON file 'General.json' created and data written successfully!\")"
   ]
  },
  {
   "cell_type": "markdown",
   "metadata": {},
   "source": [
    " Read from a JSON File\n"
   ]
  },
  {
   "cell_type": "code",
   "execution_count": 19,
   "metadata": {},
   "outputs": [
    {
     "name": "stdout",
     "output_type": "stream",
     "text": [
      "{'people': [{'name': 'ATIIA', 'age': 20, 'city': 'QUEETA'}, {'name': 'KIRAN', 'age': 18, 'city': 'FAISLABAD'}, {'name': 'ADEEBA', 'age': 14, 'city': 'SARGODHA'}]}\n"
     ]
    }
   ],
   "source": [
    "import json\n",
    "with open('people_data.json', mode='r') as file:\n",
    " data = json.load(file) \n",
    "# Print the content of the file\n",
    "print(data)"
   ]
  },
  {
   "cell_type": "markdown",
   "metadata": {},
   "source": [
    " Append to a JSON File"
   ]
  },
  {
   "cell_type": "code",
   "execution_count": 20,
   "metadata": {},
   "outputs": [
    {
     "name": "stdout",
     "output_type": "stream",
     "text": [
      "New data appended to 'people_data.json' successfully!\n"
     ]
    }
   ],
   "source": [
    "import json\n",
    "# Data to append\n",
    "new_entry = {\"name\": \"FIZA\", \"age\": 16, \"city\": \"SARGODHA\"}\n",
    "# Reading the current file\n",
    "with open('people_data.json', mode='r') as file:\n",
    " data = json.load(file)\n",
    "# Append the new data\n",
    "data[\"people\"].append(new_entry)\n",
    "# Writing back the updated data\n",
    "with open('people_data.json', mode='w') as file:\n",
    " json.dump(data, file, indent=4) \n",
    "print(\"New data appended to 'people_data.json' successfully!\")"
   ]
  },
  {
   "cell_type": "markdown",
   "metadata": {},
   "source": [
    "                                                     .......................LAB QUESTIONS......................."
   ]
  },
  {
   "cell_type": "markdown",
   "metadata": {},
   "source": [
    "  1 . Write a Python script that calculatesthe factorial of a given number."
   ]
  },
  {
   "cell_type": "code",
   "execution_count": 29,
   "metadata": {},
   "outputs": [
    {
     "name": "stdout",
     "output_type": "stream",
     "text": [
      "The factorial of 7 is 5040\n"
     ]
    }
   ],
   "source": [
    "\n",
    "num = 7\n",
    "factorial = 1\n",
    "if num < 0:\n",
    "   print(\"Sorry, factorial does not exist for negative numbers\")\n",
    "elif num == 0:\n",
    "   print(\"The factorial of 0 is 1\")\n",
    "else:\n",
    "   for i in range(1,num + 1):\n",
    "       factorial = factorial*i\n",
    "   print(\"The factorial of\",num,\"is\",factorial)\n",
    "  "
   ]
  },
  {
   "cell_type": "markdown",
   "metadata": {},
   "source": [
    " 2. Create a JSON file containing a list of items, read it, and print its contents."
   ]
  },
  {
   "cell_type": "code",
   "execution_count": 30,
   "metadata": {},
   "outputs": [
    {
     "name": "stdout",
     "output_type": "stream",
     "text": [
      "JSON file 'General.json' created and data written successfully!\n",
      "{'people': [{'name': 'Apple', 'price': 20}, {'name': 'mango', 'price': 18}, {'name': 'banana', 'price': 14}]}\n"
     ]
    }
   ],
   "source": [
    "import json\n",
    "# Data to write (dictionary)\n",
    "data = {\n",
    " \"people\": [\n",
    " {\"name\": \"Apple\", \"price\": 20},\n",
    " {\"name\": \"mango\", \"price\": 18},\n",
    " {\"name\": \"banana\", \"price\": 14}\n",
    " ]\n",
    "}\n",
    "# Creating and writing to a JSON file\n",
    "with open('items_data.json', mode='w') as file:\n",
    " json.dump(data, file, indent=4) # Write JSON with indentation for readability\n",
    "print(\"JSON file 'General.json' created and data written successfully!\")\n",
    "\n",
    "#printing the json file\n",
    "with open('items_data.json', mode='r') as file:\n",
    " data = json.load(file) \n",
    "# Print the content of the file\n",
    "print(data)\n"
   ]
  },
  {
   "cell_type": "markdown",
   "metadata": {},
   "source": [
    " 3. Document the steps to open and execute a notebook in Jupyter."
   ]
  },
  {
   "cell_type": "markdown",
   "metadata": {},
   "source": [
    " RUNNING JUPYTER NOTEBOOK IN VS CODE:\n",
    "\n",
    " STEP 01:\n",
    " download the vs code.\n",
    "\n",
    " STEP 02:\n",
    " Install the jupyter notebook extension in vs code.\n",
    "\n",
    " STEP 03:\n",
    " create a file named as you like with extension (.ipynb) and save in file.\n",
    "\n",
    " STEP 04:\n",
    " now write code in code cells and some details /heading in markdown as you go.\n",
    "\n",
    " STEP 04:\n",
    " now run the code using run button gin left side of block of code and output seen in the next block after the code block.\n",
    "\n"
   ]
  }
 ],
 "metadata": {
  "kernelspec": {
   "display_name": "Python 3",
   "language": "python",
   "name": "python3"
  },
  "language_info": {
   "codemirror_mode": {
    "name": "ipython",
    "version": 3
   },
   "file_extension": ".py",
   "mimetype": "text/x-python",
   "name": "python",
   "nbconvert_exporter": "python",
   "pygments_lexer": "ipython3",
   "version": "3.8.6"
  }
 },
 "nbformat": 4,
 "nbformat_minor": 2
}
